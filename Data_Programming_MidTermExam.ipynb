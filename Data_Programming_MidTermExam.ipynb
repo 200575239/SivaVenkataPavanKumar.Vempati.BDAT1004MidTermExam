{
 "cells": [
  {
   "cell_type": "raw",
   "id": "9f031cee",
   "metadata": {},
   "source": [
    "Question 21"
   ]
  },
  {
   "cell_type": "raw",
   "id": "ff42e6c7",
   "metadata": {},
   "source": [
    "In a jupyter notebook solve the following question. Please upload the notebook to GitHub and provide the link submission box below.\n",
    "\n",
    " \n",
    "\n",
    "__int()__: Constructor that takes as input a pair of Point objects that represent the ends points of the line segment\n",
    "\n",
    "Length():: returns the length if the segment \n",
    "\n",
    "Slope() returns the slope of the segment of none if the slope is unbounded \n",
    "\n",
    " \n",
    "\n",
    ">>> p1 = Point(3,4)\n",
    "\n",
    ">>> p2 = Point()\n",
    "\n",
    ">>> s = Segment(p1,p2)\n",
    "\n",
    ">>> s.length()\n",
    "\n",
    "5.0\n",
    "\n",
    ">>> s.slope()\n",
    "\n",
    "0.75"
   ]
  },
  {
   "cell_type": "code",
   "execution_count": 2,
   "id": "b71192d0",
   "metadata": {},
   "outputs": [
    {
     "name": "stdout",
     "output_type": "stream",
     "text": [
      "5.0\n",
      "1.3333333333333333\n"
     ]
    }
   ],
   "source": [
    "class Point:\n",
    "    def __init__(self, x=0, y=0):\n",
    "        self.x = x\n",
    "        self.y = y\n",
    "\n",
    "class Segment:\n",
    "    def __init__(self, p1, p2):\n",
    "        self.p1 = p1\n",
    "        self.p2 = p2\n",
    "\n",
    "    def length(self):\n",
    "        # Calculate the length of the line segment using the distance formula\n",
    "        return ((self.p2.x - self.p1.x) ** 2 + (self.p2.y - self.p1.y) ** 2) ** 0.5\n",
    "\n",
    "    def slope(self):\n",
    "        # Calculate the slope of the line segment\n",
    "        if self.p2.x - self.p1.x != 0:\n",
    "            return (self.p2.y - self.p1.y) / (self.p2.x - self.p1.x)\n",
    "        else:\n",
    "            # If the slope is vertical line, return None\n",
    "            return None\n",
    "\n",
    "\n",
    "        \n",
    "p1 = Point(3, 4)\n",
    "p2 = Point()\n",
    "s = Segment(p1, p2)\n",
    "print(s.length())\n",
    "print(s.slope()) \n"
   ]
  },
  {
   "cell_type": "markdown",
   "id": "2961c334",
   "metadata": {},
   "source": [
    "Question 22"
   ]
  },
  {
   "cell_type": "raw",
   "id": "664b9e38",
   "metadata": {},
   "source": [
    "In a jupyter notebook solve the following question using both python and SQL. Please upload the notebook to GitHub and provide the link submission box below.\n",
    "\n",
    "\n",
    "\n",
    "+---------------+---------+\n",
    "| Column Name   | Type    |\n",
    "+---------------+---------+\n",
    "| id            | int     |\n",
    "| recordDate    | date    |\n",
    "| temperature   | int     |\n",
    "+---------------+---------+\n",
    "id is the column with unique values for this table.\n",
    "This table contains information about the temperature on a certain day.\n",
    " \n",
    " \n",
    "\n",
    "Write a solution to find all dates' Id with higher temperatures compared to its previous dates (yesterday).\n",
    "\n",
    "Return the result table in any order.\n",
    "\n",
    "Please use the following input Weather table for your solution. To receive full marks you will need to create the database, create the table, insert the data below and execute the SQL query.\n",
    "\n",
    " \n",
    "\n",
    "Input: \n",
    "Weather table:\n",
    "+----+------------+-------------+\n",
    "| id | recordDate | temperature |\n",
    "+----+------------+-------------+\n",
    "| 1  | 2015-01-01 | 10          |\n",
    "| 2  | 2015-01-02 | 25          |\n",
    "| 3  | 2015-01-03 | 20          |\n",
    "| 4  | 2015-01-04 | 30          |\n",
    "+----+------------+-------------+\n",
    "Output: \n",
    "+----+\n",
    "| id |\n",
    "+----+\n",
    "| 2  |\n",
    "| 4  |\n",
    "+----+\n",
    "Explanation: \n",
    "In 2015-01-02, the temperature was higher than the previous day (10 -> 25).\n",
    "In 2015-01-04, the temperature was higher than the previous day (20 -> 30)."
   ]
  },
  {
   "cell_type": "code",
   "execution_count": 3,
   "id": "0252e5b3",
   "metadata": {},
   "outputs": [
    {
     "name": "stdout",
     "output_type": "stream",
     "text": [
      "2\n",
      "4\n"
     ]
    }
   ],
   "source": [
    "import sqlite3\n",
    "\n",
    "# Create and connect to a SQLite database\n",
    "conn = sqlite3.connect(\"weather.db\")\n",
    "cursor = conn.cursor()\n",
    "\n",
    "# Create the Weather table\n",
    "cursor.execute('''\n",
    "    CREATE TABLE IF NOT EXISTS Weather (\n",
    "        id INTEGER PRIMARY KEY,\n",
    "        recordDate DATE,\n",
    "        temperature INTEGER\n",
    "    )\n",
    "''')\n",
    "\n",
    "# Insert data into the Weather table\n",
    "data = [\n",
    "    (1, '2015-01-01', 10),\n",
    "    (2, '2015-01-02', 25),\n",
    "    (3, '2015-01-03', 20),\n",
    "    (4, '2015-01-04', 30)\n",
    "]\n",
    "\n",
    "cursor.executemany('INSERT INTO Weather (id, recordDate, temperature) VALUES (?, ?, ?)', data)\n",
    "\n",
    "# SQL query to find Id with higher temperatures compared to previous dates\n",
    "query = '''\n",
    "    SELECT w.id\n",
    "    FROM Weather w\n",
    "    WHERE w.temperature > (\n",
    "        SELECT temperature\n",
    "        FROM Weather\n",
    "        WHERE recordDate = date(w.recordDate, '-1 day')\n",
    "    )\n",
    "'''\n",
    "\n",
    "\n",
    "cursor.execute(query)\n",
    "results = cursor.fetchall()\n",
    "conn.close()\n",
    "for row in results:\n",
    "    print(row[0])\n"
   ]
  },
  {
   "cell_type": "markdown",
   "id": "125a3a76",
   "metadata": {},
   "source": [
    "Question 23"
   ]
  },
  {
   "cell_type": "raw",
   "id": "53b879c9",
   "metadata": {},
   "source": [
    "In a jupyter notebook solve the following question using python. Please upload the notebook to GitHub and provide the link submission box below.\n",
    "\n",
    "\n",
    "\n",
    "Develop a recursive function tough() that takes two nonnegative integer arguments and outputs a pattern as shown below. Hint: The first argument represents the indentation of the pattern, where the second argument -- always a pattern of 2 indicates the number *s in the longest line of *s in the pattern"
   ]
  },
  {
   "cell_type": "code",
   "execution_count": 10,
   "id": "9f43ab67",
   "metadata": {},
   "outputs": [
    {
     "name": "stdout",
     "output_type": "stream",
     "text": [
      "--f(0, 0)--\n",
      "\n",
      "--f(0, 1)--\n",
      "*\n",
      "\n",
      "--f(0, 2)--\n",
      "*\n",
      "*\n",
      " *\n",
      "\n",
      "--f(0, 4)--\n",
      "*\n",
      "*\n",
      " *\n",
      "*\n",
      " *\n",
      " *\n",
      "  *\n",
      "*\n",
      " *\n",
      " *\n",
      "  *\n",
      " *\n",
      "  *\n",
      "  *\n",
      "   *\n",
      "\n"
     ]
    }
   ],
   "source": [
    "# Recursive function to create a pattern with indentation and a given number of asterisks\n",
    "def tough(indent, stars):\n",
    "    # If there are no stars to print, return\n",
    "    if stars == 0:\n",
    "        return\n",
    "\n",
    "    # Recursive call to print stars with the specified indentation\n",
    "    tough(indent, stars - 1)\n",
    "\n",
    "    # Print a line with spaces for indentation and a single asterisk\n",
    "    print(\" \" * indent + \"*\")\n",
    "\n",
    "    # Recursive call to increase the indentation and print remaining stars\n",
    "    if stars > 1:\n",
    "        tough(indent + 1, stars - 1)\n",
    "\n",
    "# Wrapper function to call tough() and print an empty line afterward\n",
    "def f(indent, stars):\n",
    "    tough(indent, stars)\n",
    "    print()\n",
    "\n",
    "\n",
    "print(\"--f(0, 0)--\")\n",
    "f(0, 0)\n",
    "print(\"--f(0, 1)--\")\n",
    "f(0, 1)\n",
    "print(\"--f(0, 2)--\")\n",
    "f(0, 2)\n",
    "print(\"--f(0, 4)--\")\n",
    "f(0, 4)\n"
   ]
  }
 ],
 "metadata": {
  "kernelspec": {
   "display_name": "Python 3 (ipykernel)",
   "language": "python",
   "name": "python3"
  },
  "language_info": {
   "codemirror_mode": {
    "name": "ipython",
    "version": 3
   },
   "file_extension": ".py",
   "mimetype": "text/x-python",
   "name": "python",
   "nbconvert_exporter": "python",
   "pygments_lexer": "ipython3",
   "version": "3.11.4"
  }
 },
 "nbformat": 4,
 "nbformat_minor": 5
}
